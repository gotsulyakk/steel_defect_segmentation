{
 "cells": [
  {
   "cell_type": "code",
   "execution_count": 1,
   "metadata": {},
   "outputs": [],
   "source": [
    "import os\n",
    "import re\n",
    "import sys\n",
    "import cv2\n",
    "from pathlib import Path\n",
    "import numpy as np\n",
    "import pandas as pd\n",
    "import matplotlib.pyplot as plt\n",
    "from sklearn.model_selection import train_test_split\n",
    "\n",
    "sys.path.append(\"..\")\n",
    "from utils import rle2mask, combine_masks, save_masks, copy_images"
   ]
  },
  {
   "cell_type": "markdown",
   "metadata": {},
   "source": [
    "<b>Read and prepare training dataframe"
   ]
  },
  {
   "cell_type": "code",
   "execution_count": 2,
   "metadata": {},
   "outputs": [
    {
     "data": {
      "text/html": [
       "<div>\n",
       "<style scoped>\n",
       "    .dataframe tbody tr th:only-of-type {\n",
       "        vertical-align: middle;\n",
       "    }\n",
       "\n",
       "    .dataframe tbody tr th {\n",
       "        vertical-align: top;\n",
       "    }\n",
       "\n",
       "    .dataframe thead th {\n",
       "        text-align: right;\n",
       "    }\n",
       "</style>\n",
       "<table border=\"1\" class=\"dataframe\">\n",
       "  <thead>\n",
       "    <tr style=\"text-align: right;\">\n",
       "      <th></th>\n",
       "      <th>ImageId</th>\n",
       "      <th>ClassId</th>\n",
       "      <th>EncodedPixels</th>\n",
       "    </tr>\n",
       "  </thead>\n",
       "  <tbody>\n",
       "    <tr>\n",
       "      <th>0</th>\n",
       "      <td>0002cc93b.jpg</td>\n",
       "      <td>1</td>\n",
       "      <td>29102 12 29346 24 29602 24 29858 24 30114 24 3...</td>\n",
       "    </tr>\n",
       "    <tr>\n",
       "      <th>1</th>\n",
       "      <td>0007a71bf.jpg</td>\n",
       "      <td>3</td>\n",
       "      <td>18661 28 18863 82 19091 110 19347 110 19603 11...</td>\n",
       "    </tr>\n",
       "    <tr>\n",
       "      <th>2</th>\n",
       "      <td>000a4bcdd.jpg</td>\n",
       "      <td>1</td>\n",
       "      <td>37607 3 37858 8 38108 14 38359 20 38610 25 388...</td>\n",
       "    </tr>\n",
       "    <tr>\n",
       "      <th>3</th>\n",
       "      <td>000f6bf48.jpg</td>\n",
       "      <td>4</td>\n",
       "      <td>131973 1 132228 4 132483 6 132738 8 132993 11 ...</td>\n",
       "    </tr>\n",
       "    <tr>\n",
       "      <th>4</th>\n",
       "      <td>0014fce06.jpg</td>\n",
       "      <td>3</td>\n",
       "      <td>229501 11 229741 33 229981 55 230221 77 230468...</td>\n",
       "    </tr>\n",
       "  </tbody>\n",
       "</table>\n",
       "</div>"
      ],
      "text/plain": [
       "         ImageId  ClassId                                      EncodedPixels\n",
       "0  0002cc93b.jpg        1  29102 12 29346 24 29602 24 29858 24 30114 24 3...\n",
       "1  0007a71bf.jpg        3  18661 28 18863 82 19091 110 19347 110 19603 11...\n",
       "2  000a4bcdd.jpg        1  37607 3 37858 8 38108 14 38359 20 38610 25 388...\n",
       "3  000f6bf48.jpg        4  131973 1 132228 4 132483 6 132738 8 132993 11 ...\n",
       "4  0014fce06.jpg        3  229501 11 229741 33 229981 55 230221 77 230468..."
      ]
     },
     "execution_count": 2,
     "metadata": {},
     "output_type": "execute_result"
    }
   ],
   "source": [
    "df_path = \"../data/train.csv\"\n",
    "\n",
    "df = pd.read_csv(df_path)\n",
    "df.head()"
   ]
  },
  {
   "cell_type": "code",
   "execution_count": 3,
   "metadata": {},
   "outputs": [
    {
     "data": {
      "text/html": [
       "<div>\n",
       "<style scoped>\n",
       "    .dataframe tbody tr th:only-of-type {\n",
       "        vertical-align: middle;\n",
       "    }\n",
       "\n",
       "    .dataframe tbody tr th {\n",
       "        vertical-align: top;\n",
       "    }\n",
       "\n",
       "    .dataframe thead th {\n",
       "        text-align: right;\n",
       "    }\n",
       "</style>\n",
       "<table border=\"1\" class=\"dataframe\">\n",
       "  <thead>\n",
       "    <tr style=\"text-align: right;\">\n",
       "      <th></th>\n",
       "      <th>fname</th>\n",
       "      <th>1</th>\n",
       "      <th>2</th>\n",
       "      <th>3</th>\n",
       "      <th>4</th>\n",
       "      <th>defects</th>\n",
       "    </tr>\n",
       "  </thead>\n",
       "  <tbody>\n",
       "    <tr>\n",
       "      <th>0</th>\n",
       "      <td>0002cc93b.jpg</td>\n",
       "      <td>29102 12 29346 24 29602 24 29858 24 30114 24 3...</td>\n",
       "      <td>0 0</td>\n",
       "      <td>0 0</td>\n",
       "      <td>0 0</td>\n",
       "      <td>1</td>\n",
       "    </tr>\n",
       "    <tr>\n",
       "      <th>1</th>\n",
       "      <td>0007a71bf.jpg</td>\n",
       "      <td>0 0</td>\n",
       "      <td>0 0</td>\n",
       "      <td>18661 28 18863 82 19091 110 19347 110 19603 11...</td>\n",
       "      <td>0 0</td>\n",
       "      <td>1</td>\n",
       "    </tr>\n",
       "    <tr>\n",
       "      <th>2</th>\n",
       "      <td>000a4bcdd.jpg</td>\n",
       "      <td>37607 3 37858 8 38108 14 38359 20 38610 25 388...</td>\n",
       "      <td>0 0</td>\n",
       "      <td>0 0</td>\n",
       "      <td>0 0</td>\n",
       "      <td>1</td>\n",
       "    </tr>\n",
       "    <tr>\n",
       "      <th>3</th>\n",
       "      <td>000f6bf48.jpg</td>\n",
       "      <td>0 0</td>\n",
       "      <td>0 0</td>\n",
       "      <td>0 0</td>\n",
       "      <td>131973 1 132228 4 132483 6 132738 8 132993 11 ...</td>\n",
       "      <td>1</td>\n",
       "    </tr>\n",
       "    <tr>\n",
       "      <th>4</th>\n",
       "      <td>0014fce06.jpg</td>\n",
       "      <td>0 0</td>\n",
       "      <td>0 0</td>\n",
       "      <td>229501 11 229741 33 229981 55 230221 77 230468...</td>\n",
       "      <td>0 0</td>\n",
       "      <td>1</td>\n",
       "    </tr>\n",
       "  </tbody>\n",
       "</table>\n",
       "</div>"
      ],
      "text/plain": [
       "           fname                                                  1    2  \\\n",
       "0  0002cc93b.jpg  29102 12 29346 24 29602 24 29858 24 30114 24 3...  0 0   \n",
       "1  0007a71bf.jpg                                                0 0  0 0   \n",
       "2  000a4bcdd.jpg  37607 3 37858 8 38108 14 38359 20 38610 25 388...  0 0   \n",
       "3  000f6bf48.jpg                                                0 0  0 0   \n",
       "4  0014fce06.jpg                                                0 0  0 0   \n",
       "\n",
       "                                                   3  \\\n",
       "0                                                0 0   \n",
       "1  18661 28 18863 82 19091 110 19347 110 19603 11...   \n",
       "2                                                0 0   \n",
       "3                                                0 0   \n",
       "4  229501 11 229741 33 229981 55 230221 77 230468...   \n",
       "\n",
       "                                                   4  defects  \n",
       "0                                                0 0        1  \n",
       "1                                                0 0        1  \n",
       "2                                                0 0        1  \n",
       "3  131973 1 132228 4 132483 6 132738 8 132993 11 ...        1  \n",
       "4                                                0 0        1  "
      ]
     },
     "execution_count": 3,
     "metadata": {},
     "output_type": "execute_result"
    }
   ],
   "source": [
    "# Transform class to column\n",
    "\n",
    "df['fname'], df['cls'] = df['ImageId'], df['ClassId']\n",
    "df['cls'] = df['cls'].astype(int)\n",
    "df = df.pivot(index='fname',columns='cls',values='EncodedPixels')\n",
    "df['defects'] = df.count(axis=1)\n",
    "df = pd.DataFrame(df.to_records()).fillna(\"0 0\")\n",
    "df.head()"
   ]
  },
  {
   "cell_type": "markdown",
   "metadata": {},
   "source": [
    "<b>Combine 4 classes into 1"
   ]
  },
  {
   "cell_type": "code",
   "execution_count": 4,
   "metadata": {},
   "outputs": [
    {
     "data": {
      "image/png": "[encoded data removed]",
      "text/plain": [
       "<Figure size 432x288 with 1 Axes>"
      ]
     },
     "metadata": {
      "needs_background": "light"
     },
     "output_type": "display_data"
    },
    {
     "data": {
      "image/png": "[encoded data removed]",
      "text/plain": [
       "<Figure size 432x288 with 1 Axes>"
      ]
     },
     "metadata": {
      "needs_background": "light"
     },
     "output_type": "display_data"
    },
    {
     "data": {
      "image/png": "[encoded data removed]",
      "text/plain": [
       "<Figure size 432x288 with 1 Axes>"
      ]
     },
     "metadata": {
      "needs_background": "light"
     },
     "output_type": "display_data"
    },
    {
     "data": {
      "image/png": "[encoded data removed]",
      "text/plain": [
       "<Figure size 432x288 with 1 Axes>"
      ]
     },
     "metadata": {
      "needs_background": "light"
     },
     "output_type": "display_data"
    }
   ],
   "source": [
    "# all images have height = 256 and width = 1600\n",
    "height = 256\n",
    "width = 1600\n",
    "\n",
    "# take one example with multiple defects\n",
    "sample = df.loc[df[\"defects\"] == 3].iloc[0]\n",
    "\n",
    "# select rle\n",
    "rle1 = sample[1]\n",
    "rle2 = sample[2]\n",
    "rle3 = sample[3]\n",
    "rle4 = sample[4]\n",
    "\n",
    "# create masks\n",
    "mask1 = rle2mask(rle1, height, width)\n",
    "mask2 = rle2mask(rle2, height, width)\n",
    "mask3 = rle2mask(rle3, height, width)\n",
    "mask4 = rle2mask(rle4, height, width)\n",
    "\n",
    "masks = [mask1, mask2, mask3, mask4]\n",
    "\n",
    "for mask in masks:\n",
    "    plt.imshow(mask)\n",
    "    plt.show()"
   ]
  },
  {
   "cell_type": "code",
   "execution_count": 5,
   "metadata": {},
   "outputs": [
    {
     "data": {
      "image/png": "[encoded data removed]",
      "text/plain": [
       "<Figure size 432x288 with 1 Axes>"
      ]
     },
     "metadata": {
      "needs_background": "light"
     },
     "output_type": "display_data"
    }
   ],
   "source": [
    "# combine masks\n",
    "combined = 255 * (mask1 + mask2 + mask3 + mask4)\n",
    "combined = combined.clip(0, 255).astype(\"uint8\")\n",
    "\n",
    "plt.imshow(combined)\n",
    "plt.show()"
   ]
  },
  {
   "cell_type": "code",
   "execution_count": 7,
   "metadata": {},
   "outputs": [
    {
     "name": "stdout",
     "output_type": "stream",
     "text": [
      "(256, 1600)\n",
      "(256, 1600)\n"
     ]
    },
    {
     "data": {
      "text/plain": [
       "<matplotlib.image.AxesImage at 0x7fce00aac280>"
      ]
     },
     "execution_count": 7,
     "metadata": {},
     "output_type": "execute_result"
    },
    {
     "data": {
      "image/png": "[encoded data removed]",
      "text/plain": [
       "<Figure size 432x288 with 1 Axes>"
      ]
     },
     "metadata": {
      "needs_background": "light"
     },
     "output_type": "display_data"
    }
   ],
   "source": [
    "mask1 = rle2mask(rle1, 256, 1600)\n",
    "mask2 = rle2mask(rle2, 256, 1600)\n",
    "mask3 = rle2mask(rle3, 256, 1600)\n",
    "mask4 = rle2mask(\"0 0\", 256, 1600)\n",
    "print(mask1.shape)\n",
    "\n",
    "masks = [mask1, mask2, mask3, mask4]\n",
    "\n",
    "# add masks\n",
    "result = 255*(mask1 + mask2 + mask3 + mask4)\n",
    "result = result.clip(0, 255).astype(\"uint8\")\n",
    "print(result.shape)\n",
    "\n",
    "# show results\n",
    "plt.imshow(result)"
   ]
  },
  {
   "cell_type": "markdown",
   "metadata": {},
   "source": [
    "<b>Sample training data (we need 1000 images)"
   ]
  },
  {
   "cell_type": "code",
   "execution_count": 9,
   "metadata": {},
   "outputs": [
    {
     "name": "stdout",
     "output_type": "stream",
     "text": [
      "Num of images with multiple defects: 427\n"
     ]
    },
    {
     "data": {
      "text/html": [
       "<div>\n",
       "<style scoped>\n",
       "    .dataframe tbody tr th:only-of-type {\n",
       "        vertical-align: middle;\n",
       "    }\n",
       "\n",
       "    .dataframe tbody tr th {\n",
       "        vertical-align: top;\n",
       "    }\n",
       "\n",
       "    .dataframe thead th {\n",
       "        text-align: right;\n",
       "    }\n",
       "</style>\n",
       "<table border=\"1\" class=\"dataframe\">\n",
       "  <thead>\n",
       "    <tr style=\"text-align: right;\">\n",
       "      <th></th>\n",
       "      <th>fname</th>\n",
       "      <th>1</th>\n",
       "      <th>2</th>\n",
       "      <th>3</th>\n",
       "      <th>4</th>\n",
       "      <th>defects</th>\n",
       "    </tr>\n",
       "  </thead>\n",
       "  <tbody>\n",
       "    <tr>\n",
       "      <th>0</th>\n",
       "      <td>0025bde0c.jpg</td>\n",
       "      <td>0 0</td>\n",
       "      <td>0 0</td>\n",
       "      <td>8458 14 8707 35 8963 48 9219 71 9475 88 9731 8...</td>\n",
       "      <td>315139 8 315395 15 315651 16 315906 17 316162 ...</td>\n",
       "      <td>2</td>\n",
       "    </tr>\n",
       "    <tr>\n",
       "      <th>1</th>\n",
       "      <td>002fc4e19.jpg</td>\n",
       "      <td>146021 3 146275 10 146529 40 146783 46 147038 ...</td>\n",
       "      <td>145658 7 145901 20 146144 33 146386 47 146629 ...</td>\n",
       "      <td>0 0</td>\n",
       "      <td>0 0</td>\n",
       "      <td>2</td>\n",
       "    </tr>\n",
       "    <tr>\n",
       "      <th>2</th>\n",
       "      <td>008ef3d74.jpg</td>\n",
       "      <td>356336 4 356587 11 356838 18 357089 25 357340 ...</td>\n",
       "      <td>375439 5 375687 14 375935 24 376182 34 376430 ...</td>\n",
       "      <td>0 0</td>\n",
       "      <td>0 0</td>\n",
       "      <td>2</td>\n",
       "    </tr>\n",
       "    <tr>\n",
       "      <th>3</th>\n",
       "      <td>00ac8372f.jpg</td>\n",
       "      <td>101742 3 101998 12 102253 19 102301 22 102509 ...</td>\n",
       "      <td>98114 24 98370 72 98626 119 98881 168 99137 19...</td>\n",
       "      <td>0 0</td>\n",
       "      <td>0 0</td>\n",
       "      <td>2</td>\n",
       "    </tr>\n",
       "    <tr>\n",
       "      <th>4</th>\n",
       "      <td>00c88fed0.jpg</td>\n",
       "      <td>10474 7 10728 15 10983 18 11239 21 11494 24 11...</td>\n",
       "      <td>13428 8 13684 24 13940 39 14196 55 14452 71 14...</td>\n",
       "      <td>0 0</td>\n",
       "      <td>0 0</td>\n",
       "      <td>2</td>\n",
       "    </tr>\n",
       "  </tbody>\n",
       "</table>\n",
       "</div>"
      ],
      "text/plain": [
       "           fname                                                  1  \\\n",
       "0  0025bde0c.jpg                                                0 0   \n",
       "1  002fc4e19.jpg  146021 3 146275 10 146529 40 146783 46 147038 ...   \n",
       "2  008ef3d74.jpg  356336 4 356587 11 356838 18 357089 25 357340 ...   \n",
       "3  00ac8372f.jpg  101742 3 101998 12 102253 19 102301 22 102509 ...   \n",
       "4  00c88fed0.jpg  10474 7 10728 15 10983 18 11239 21 11494 24 11...   \n",
       "\n",
       "                                                   2  \\\n",
       "0                                                0 0   \n",
       "1  145658 7 145901 20 146144 33 146386 47 146629 ...   \n",
       "2  375439 5 375687 14 375935 24 376182 34 376430 ...   \n",
       "3  98114 24 98370 72 98626 119 98881 168 99137 19...   \n",
       "4  13428 8 13684 24 13940 39 14196 55 14452 71 14...   \n",
       "\n",
       "                                                   3  \\\n",
       "0  8458 14 8707 35 8963 48 9219 71 9475 88 9731 8...   \n",
       "1                                                0 0   \n",
       "2                                                0 0   \n",
       "3                                                0 0   \n",
       "4                                                0 0   \n",
       "\n",
       "                                                   4  defects  \n",
       "0  315139 8 315395 15 315651 16 315906 17 316162 ...        2  \n",
       "1                                                0 0        2  \n",
       "2                                                0 0        2  \n",
       "3                                                0 0        2  \n",
       "4                                                0 0        2  "
      ]
     },
     "execution_count": 9,
     "metadata": {},
     "output_type": "execute_result"
    }
   ],
   "source": [
    "mult_df = df.loc[df[\"defects\"] > 1].reset_index(drop=True)\n",
    "print(\"Num of images with multiple defects:\", len(mult_df))\n",
    "mult_df.head()"
   ]
  },
  {
   "cell_type": "code",
   "execution_count": 10,
   "metadata": {},
   "outputs": [
    {
     "name": "stdout",
     "output_type": "stream",
     "text": [
      "Num of images with single defect: 573\n"
     ]
    },
    {
     "data": {
      "text/html": [
       "<div>\n",
       "<style scoped>\n",
       "    .dataframe tbody tr th:only-of-type {\n",
       "        vertical-align: middle;\n",
       "    }\n",
       "\n",
       "    .dataframe tbody tr th {\n",
       "        vertical-align: top;\n",
       "    }\n",
       "\n",
       "    .dataframe thead th {\n",
       "        text-align: right;\n",
       "    }\n",
       "</style>\n",
       "<table border=\"1\" class=\"dataframe\">\n",
       "  <thead>\n",
       "    <tr style=\"text-align: right;\">\n",
       "      <th></th>\n",
       "      <th>fname</th>\n",
       "      <th>1</th>\n",
       "      <th>2</th>\n",
       "      <th>3</th>\n",
       "      <th>4</th>\n",
       "      <th>defects</th>\n",
       "    </tr>\n",
       "  </thead>\n",
       "  <tbody>\n",
       "    <tr>\n",
       "      <th>0</th>\n",
       "      <td>a68dcc7d2.jpg</td>\n",
       "      <td>0 0</td>\n",
       "      <td>0 0</td>\n",
       "      <td>49665 101 49921 201 50177 200 50433 200 50689 ...</td>\n",
       "      <td>0 0</td>\n",
       "      <td>1</td>\n",
       "    </tr>\n",
       "    <tr>\n",
       "      <th>1</th>\n",
       "      <td>409adafbe.jpg</td>\n",
       "      <td>0 0</td>\n",
       "      <td>0 0</td>\n",
       "      <td>201198 19 201418 55 201637 92 201857 128 20207...</td>\n",
       "      <td>0 0</td>\n",
       "      <td>1</td>\n",
       "    </tr>\n",
       "    <tr>\n",
       "      <th>2</th>\n",
       "      <td>e863b1467.jpg</td>\n",
       "      <td>0 0</td>\n",
       "      <td>0 0</td>\n",
       "      <td>92673 127 92929 253 93185 253 93441 253 93697 ...</td>\n",
       "      <td>0 0</td>\n",
       "      <td>1</td>\n",
       "    </tr>\n",
       "    <tr>\n",
       "      <th>3</th>\n",
       "      <td>ea5c8ec19.jpg</td>\n",
       "      <td>0 0</td>\n",
       "      <td>0 0</td>\n",
       "      <td>156196 17 156445 50 156693 85 156942 119 15719...</td>\n",
       "      <td>0 0</td>\n",
       "      <td>1</td>\n",
       "    </tr>\n",
       "    <tr>\n",
       "      <th>4</th>\n",
       "      <td>cf7dbc448.jpg</td>\n",
       "      <td>0 0</td>\n",
       "      <td>0 0</td>\n",
       "      <td>59905 32 60161 96 60417 160 60673 224 60929 65...</td>\n",
       "      <td>0 0</td>\n",
       "      <td>1</td>\n",
       "    </tr>\n",
       "  </tbody>\n",
       "</table>\n",
       "</div>"
      ],
      "text/plain": [
       "           fname    1    2                                                  3  \\\n",
       "0  a68dcc7d2.jpg  0 0  0 0  49665 101 49921 201 50177 200 50433 200 50689 ...   \n",
       "1  409adafbe.jpg  0 0  0 0  201198 19 201418 55 201637 92 201857 128 20207...   \n",
       "2  e863b1467.jpg  0 0  0 0  92673 127 92929 253 93185 253 93441 253 93697 ...   \n",
       "3  ea5c8ec19.jpg  0 0  0 0  156196 17 156445 50 156693 85 156942 119 15719...   \n",
       "4  cf7dbc448.jpg  0 0  0 0  59905 32 60161 96 60417 160 60673 224 60929 65...   \n",
       "\n",
       "     4  defects  \n",
       "0  0 0        1  \n",
       "1  0 0        1  \n",
       "2  0 0        1  \n",
       "3  0 0        1  \n",
       "4  0 0        1  "
      ]
     },
     "execution_count": 10,
     "metadata": {},
     "output_type": "execute_result"
    }
   ],
   "source": [
    "# drop images with multiple defects\n",
    "mult_fname_list = mult_df.fname.tolist()\n",
    "single_df = df.loc[~df.fname.isin(mult_fname_list), :]\n",
    "\n",
    "# sample single defect images\n",
    "single_df = single_df.sample(1000 - len(mult_df)).reset_index(drop=True)\n",
    "print(\"Num of images with single defect:\", len(single_df))\n",
    "single_df.head()"
   ]
  },
  {
   "cell_type": "code",
   "execution_count": 11,
   "metadata": {},
   "outputs": [
    {
     "name": "stdout",
     "output_type": "stream",
     "text": [
      "Total num of images: 1000\n"
     ]
    },
    {
     "data": {
      "text/html": [
       "<div>\n",
       "<style scoped>\n",
       "    .dataframe tbody tr th:only-of-type {\n",
       "        vertical-align: middle;\n",
       "    }\n",
       "\n",
       "    .dataframe tbody tr th {\n",
       "        vertical-align: top;\n",
       "    }\n",
       "\n",
       "    .dataframe thead th {\n",
       "        text-align: right;\n",
       "    }\n",
       "</style>\n",
       "<table border=\"1\" class=\"dataframe\">\n",
       "  <thead>\n",
       "    <tr style=\"text-align: right;\">\n",
       "      <th></th>\n",
       "      <th>fname</th>\n",
       "      <th>1</th>\n",
       "      <th>2</th>\n",
       "      <th>3</th>\n",
       "      <th>4</th>\n",
       "      <th>defects</th>\n",
       "    </tr>\n",
       "  </thead>\n",
       "  <tbody>\n",
       "    <tr>\n",
       "      <th>0</th>\n",
       "      <td>a68dcc7d2.jpg</td>\n",
       "      <td>0 0</td>\n",
       "      <td>0 0</td>\n",
       "      <td>49665 101 49921 201 50177 200 50433 200 50689 ...</td>\n",
       "      <td>0 0</td>\n",
       "      <td>1</td>\n",
       "    </tr>\n",
       "    <tr>\n",
       "      <th>1</th>\n",
       "      <td>409adafbe.jpg</td>\n",
       "      <td>0 0</td>\n",
       "      <td>0 0</td>\n",
       "      <td>201198 19 201418 55 201637 92 201857 128 20207...</td>\n",
       "      <td>0 0</td>\n",
       "      <td>1</td>\n",
       "    </tr>\n",
       "    <tr>\n",
       "      <th>2</th>\n",
       "      <td>e863b1467.jpg</td>\n",
       "      <td>0 0</td>\n",
       "      <td>0 0</td>\n",
       "      <td>92673 127 92929 253 93185 253 93441 253 93697 ...</td>\n",
       "      <td>0 0</td>\n",
       "      <td>1</td>\n",
       "    </tr>\n",
       "    <tr>\n",
       "      <th>3</th>\n",
       "      <td>ea5c8ec19.jpg</td>\n",
       "      <td>0 0</td>\n",
       "      <td>0 0</td>\n",
       "      <td>156196 17 156445 50 156693 85 156942 119 15719...</td>\n",
       "      <td>0 0</td>\n",
       "      <td>1</td>\n",
       "    </tr>\n",
       "    <tr>\n",
       "      <th>4</th>\n",
       "      <td>cf7dbc448.jpg</td>\n",
       "      <td>0 0</td>\n",
       "      <td>0 0</td>\n",
       "      <td>59905 32 60161 96 60417 160 60673 224 60929 65...</td>\n",
       "      <td>0 0</td>\n",
       "      <td>1</td>\n",
       "    </tr>\n",
       "  </tbody>\n",
       "</table>\n",
       "</div>"
      ],
      "text/plain": [
       "           fname    1    2                                                  3  \\\n",
       "0  a68dcc7d2.jpg  0 0  0 0  49665 101 49921 201 50177 200 50433 200 50689 ...   \n",
       "1  409adafbe.jpg  0 0  0 0  201198 19 201418 55 201637 92 201857 128 20207...   \n",
       "2  e863b1467.jpg  0 0  0 0  92673 127 92929 253 93185 253 93441 253 93697 ...   \n",
       "3  ea5c8ec19.jpg  0 0  0 0  156196 17 156445 50 156693 85 156942 119 15719...   \n",
       "4  cf7dbc448.jpg  0 0  0 0  59905 32 60161 96 60417 160 60673 224 60929 65...   \n",
       "\n",
       "     4  defects  \n",
       "0  0 0        1  \n",
       "1  0 0        1  \n",
       "2  0 0        1  \n",
       "3  0 0        1  \n",
       "4  0 0        1  "
      ]
     },
     "execution_count": 11,
     "metadata": {},
     "output_type": "execute_result"
    }
   ],
   "source": [
    "# concat two dataframes\n",
    "data = pd.concat([single_df, mult_df], ignore_index=True)\n",
    "print(\"Total num of images:\", len(data))\n",
    "data.head()"
   ]
  },
  {
   "cell_type": "markdown",
   "metadata": {},
   "source": [
    "<b>Save data to disk"
   ]
  },
  {
   "cell_type": "code",
   "execution_count": 14,
   "metadata": {},
   "outputs": [
    {
     "name": "stdout",
     "output_type": "stream",
     "text": [
      "Num images in train: 900\n",
      "Num images in test: 100\n"
     ]
    }
   ],
   "source": [
    "defects = data[\"defects\"]\n",
    "\n",
    "train, test = train_test_split(data, test_size=0.1, stratify=defects)\n",
    "\n",
    "print(\"Num images in train:\", train.fname.nunique())\n",
    "print(\"Num images in test:\", test.fname.nunique())\n",
    "\n",
    "train.to_csv(\"../data/train/train.csv\", index=False)\n",
    "test.to_csv(\"../data/test/test.csv\", index=False)"
   ]
  },
  {
   "cell_type": "code",
   "execution_count": 15,
   "metadata": {},
   "outputs": [],
   "source": [
    "train_masks_dir = \"../data/train/masks\"\n",
    "test_masks_dir = \"../data/test/masks\"\n",
    "os.makedirs(train_masks_dir, exist_ok=True)\n",
    "os.makedirs(test_masks_dir, exist_ok=True)\n",
    "\n",
    "save_masks(train, train_masks_dir)\n",
    "save_masks(test, test_masks_dir)"
   ]
  },
  {
   "cell_type": "code",
   "execution_count": 16,
   "metadata": {},
   "outputs": [],
   "source": [
    "imgs_dir = \"/home/gotsul/Downloads/severstal-steel-defect-detection/train_images\"\n",
    "train_imgs_dir = \"../data/train/images\"\n",
    "test_imgs_dir = \"../data/test/images\"\n",
    "os.makedirs(train_imgs_dir, exist_ok=True)\n",
    "os.makedirs(test_imgs_dir, exist_ok=True)\n",
    "\n",
    "copy_images(train, imgs_dir, train_imgs_dir)\n",
    "copy_images(test, imgs_dir, test_imgs_dir)"
   ]
  }
 ],
 "metadata": {
  "kernelspec": {
   "display_name": "Python 3",
   "language": "python",
   "name": "python3"
  },
  "language_info": {
   "codemirror_mode": {
    "name": "ipython",
    "version": 3
   },
   "file_extension": ".py",
   "mimetype": "text/x-python",
   "name": "python",
   "nbconvert_exporter": "python",
   "pygments_lexer": "ipython3",
   "version": "3.8.8"
  }
 },
 "nbformat": 4,
 "nbformat_minor": 4
}
